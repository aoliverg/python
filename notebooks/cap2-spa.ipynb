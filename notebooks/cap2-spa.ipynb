{
 "cells": [
  {
   "cell_type": "markdown",
   "metadata": {},
   "source": [
    "# 2. Elementos básicos del lenguaje de programación Python"
   ]
  },
  {
   "cell_type": "markdown",
   "metadata": {},
   "source": [
    "## 2.1. Tipos básicos, operaciones y conversión entre tipos"
   ]
  },
  {
   "cell_type": "markdown",
   "metadata": {},
   "source": [
    "### 2.1.a. Tipos básicos"
   ]
  },
  {
   "cell_type": "markdown",
   "metadata": {},
   "source": [
    "Un concepto muy importante en informática es el de variable, que es un nombre simbólico asociado a un valor que puede cambiar. Por ejemplo, si en Python escribimos:\n",
    "\n",
    "a=3\n",
    "\n",
    "estamos asignando el valor 3 a la variable a. Los datos que pueden almacenar las variables pueden ser de diferente tipo: números, cadenas, valores lógicos, etc. A pesar de que no es necesario declarar qué tipo de dato almacena una variable (recordad que en el apartado 1.1. hablábamos del tipado dinámico como uno de las características de Python), una vez asignamos un valor a una determinada variable, esta automáticamente tendrá un tipo determinado que se mantendrá durante la ejecución del programa, si no es que le asignamos más adelante un valor de otro tipo a esta misma variable.\n",
    "\n",
    "Los tipos principales en Python son los siguientes:\n",
    "\n",
    "- Valores booleanos que pueden tomar los valores Cierto (True) o Falso (False).\n",
    "- Números que pueden ser enteros (integers) (1 y 2), de coma flotante (floats) (1.1 y 1.2), o complejos (complex) (3j+2)\n",
    "- Cadenas (strings) son secuencias de caracteres Unicode (\"me llamo Antoni\" o \"Меня зовут Антон\")\n",
    "- Listas (lists), son secuencias ordenadas de valores ([\"lunes\", \"martes\", \"miércoles\", \"jueves\", \"viernes\", \"sábado\", \"domingo\"].\n",
    "- Colecciones (sets) son un conjunto de valores sin orden. El ejemplo anterior de la lista nos serviría, pero teniendo en cuenta que no tendrían un orden determinado\n",
    "- Diccionarios (dictionaries): son un conjunto sin orden de pares clave-valor. Por ejemplo edad[\"Paula\"]=27; edad[\"Joan\"]=15; edad[Pau]=32, que también se podría representar cómo edad={'Joan': 15, 'Paula': 27, 'Pau': 32}\n",
    "\n",
    "La función type nos devuelve el tipo de un objeto. Ahora abrid un intérprete interactivo y escribid las siguientes instrucciones:"
   ]
  },
  {
   "cell_type": "code",
   "execution_count": null,
   "metadata": {},
   "outputs": [],
   "source": [
    "a=True\n",
    "print(a)\n",
    "print(type(a))"
   ]
  },
  {
   "cell_type": "markdown",
   "metadata": {},
   "source": [
    "Fijaos que type nos devuelve el tipo de la variable. Cómo que en Python3 todo es una clase nos dice class"
   ]
  },
  {
   "cell_type": "code",
   "execution_count": null,
   "metadata": {
    "collapsed": true
   },
   "outputs": [],
   "source": [
    "a=3\n",
    "print(type(a))"
   ]
  },
  {
   "cell_type": "markdown",
   "metadata": {},
   "source": [
    "Fijaos que en la misma sesión del intérprete interactivo habéis vuelto a usar la variable a para otro tipos y que se ha cambiado el tipo de la variable de manera dinámica."
   ]
  },
  {
   "cell_type": "code",
   "execution_count": null,
   "metadata": {
    "collapsed": true
   },
   "outputs": [],
   "source": [
    "a=1.1\n",
    "print(type(a))"
   ]
  },
  {
   "cell_type": "code",
   "execution_count": null,
   "metadata": {
    "collapsed": true
   },
   "outputs": [],
   "source": [
    "a=3j+2\n",
    "print(type(a))"
   ]
  },
  {
   "cell_type": "code",
   "execution_count": null,
   "metadata": {
    "collapsed": true
   },
   "outputs": [],
   "source": [
    "a=\"me llamo Antoni\"\n",
    "print(type(a))"
   ]
  },
  {
   "cell_type": "code",
   "execution_count": null,
   "metadata": {},
   "outputs": [],
   "source": [
    "a=\"Меня зовут Антон\"\n",
    "print(type(a))"
   ]
  },
  {
   "cell_type": "code",
   "execution_count": null,
   "metadata": {},
   "outputs": [],
   "source": [
    "a=[\"lunes\", \"martes\", \"miércoles\", \"jueves\", \"viernes\", \"sábado\", \"domingo\"]\n",
    "print(type(a))\n",
    "print(\"Escribimos toda la lista:\")\n",
    "print(a)\n",
    "print(\"La primera posición es la 0:\")\n",
    "print(a[0]) #la primera posición es la 0\n",
    "print(\"La segunda posición es la 1:\")\n",
    "print(a[1]) #y la segunda es la 1\n",
    "print(\"La útlima posición es la 6, ya que tenemos 7 elementos:\")\n",
    "print(a[6]) #la última posición es la 6, ya que tenemos 7 elementos\n",
    "print(\"También podemos acceder a la última posición con el índice -1:\")\n",
    "print(a[-1]) #también podemos acceder a la útlima posición con el índice -1\n",
    "print(\"Si intentamos acceder a una posición inexistente, se produce un error:\")\n",
    "print(a[7]) #si intentamos acceder a una posición inexistente, se produce un error"
   ]
  },
  {
   "cell_type": "markdown",
   "metadata": {},
   "source": [
    "Ahora convertiremos la lista a en un set."
   ]
  },
  {
   "cell_type": "code",
   "execution_count": null,
   "metadata": {},
   "outputs": [],
   "source": [
    "a=[\"lunes\", \"martes\", \"miércoles\", \"jueves\", \"viernes\", \"sábado\", \"domingo\"]\n",
    "a=set(a)\n",
    "print(type(a))\n",
    "print(a)"
   ]
  },
  {
   "cell_type": "markdown",
   "metadata": {},
   "source": [
    "Fijaos que al pasar a a set se ha perdido el orden. Además si intentamos acceder a una posición concreta se produce un error:"
   ]
  },
  {
   "cell_type": "code",
   "execution_count": null,
   "metadata": {},
   "outputs": [],
   "source": [
    "a=[\"lunes\", \"martes\", \"miércoles\", \"jueves\", \"viernes\", \"sábado\", \"domingo\"]\n",
    "a=set(a)\n",
    "print(a[10])"
   ]
  },
  {
   "cell_type": "markdown",
   "metadata": {},
   "source": [
    "Ahora aprenderemos a trabajar con diccionarios:"
   ]
  },
  {
   "cell_type": "code",
   "execution_count": 1,
   "metadata": {},
   "outputs": [
    {
     "name": "stdout",
     "output_type": "stream",
     "text": [
      "<class 'dict'>\n",
      "{'Juan': 15, 'Paula': 27, 'Pablo': 32}\n",
      "27\n"
     ]
    },
    {
     "ename": "KeyError",
     "evalue": "'Antoni'",
     "output_type": "error",
     "traceback": [
      "\u001b[0;31m---------------------------------------------------------------------------\u001b[0m",
      "\u001b[0;31mKeyError\u001b[0m                                  Traceback (most recent call last)",
      "\u001b[0;32m<ipython-input-1-d388381d7ed8>\u001b[0m in \u001b[0;36m<module>\u001b[0;34m()\u001b[0m\n\u001b[1;32m     10\u001b[0m \u001b[0mprint\u001b[0m\u001b[0;34m(\u001b[0m\u001b[0medad\u001b[0m\u001b[0;34m[\u001b[0m\u001b[0;34m\"Paula\"\u001b[0m\u001b[0;34m]\u001b[0m\u001b[0;34m)\u001b[0m\u001b[0;34m\u001b[0m\u001b[0m\n\u001b[1;32m     11\u001b[0m \u001b[0;31m#si intentamos pedir el valor para una clave inexistente se produce un error:\u001b[0m\u001b[0;34m\u001b[0m\u001b[0;34m\u001b[0m\u001b[0m\n\u001b[0;32m---> 12\u001b[0;31m \u001b[0mprint\u001b[0m\u001b[0;34m(\u001b[0m\u001b[0medad\u001b[0m\u001b[0;34m[\u001b[0m\u001b[0;34m\"Antoni\"\u001b[0m\u001b[0;34m]\u001b[0m\u001b[0;34m)\u001b[0m\u001b[0;34m\u001b[0m\u001b[0m\n\u001b[0m",
      "\u001b[0;31mKeyError\u001b[0m: 'Antoni'"
     ]
    }
   ],
   "source": [
    "edad={} #para empezar a trabajar con un diccionario primero lo declaramos\n",
    "print(type(edad)) #podemos ver el tipo de variable\n",
    "#podemos asignar valores\n",
    "edad[\"Paula\"]=27\n",
    "edad[\"Juan\"]=15\n",
    "edad[\"Pablo\"]=32\n",
    "#podemos escribir todo el diccionario haciendo\n",
    "print(edad)\n",
    "#o bien acceder a un valor concreto haciendo:\n",
    "print(edad[\"Paula\"])\n",
    "#si intentamos pedir el valor para una clave inexistente se produce un error:\n",
    "print(edad[\"Antoni\"])"
   ]
  },
  {
   "cell_type": "markdown",
   "metadata": {},
   "source": [
    "Ahora ya conocemos los principales tipos en Pyhton. Cada uno de estos tipos tendrán asociados una serie de operaciones posibles, pero las iremos explicando a medida que las vayamos necesitando en el resto de secciones."
   ]
  },
  {
   "cell_type": "markdown",
   "metadata": {},
   "source": [
    "## 2.2. Control de flux"
   ]
  },
  {
   "cell_type": "markdown",
   "metadata": {},
   "source": [
    "### 2.2.a. Introducció"
   ]
  },
  {
   "cell_type": "markdown",
   "metadata": {},
   "source": [
    "Los programas no son siempre una secuencia de instrucciones que se ejecutan una después de la otra. A menudo, hay partes del código que solo se ejecutan si se cumple una condición determinada. También pueden haber instrucciones que se ejecutan repetidamente hasta que se cumple una determinada condición. En este apartado veremos las instrucciones que nos permiten tener el control sobre el flujo de ejecución del programa.\n",
    "\n",
    "Un aspecto muy importante a tener en cuenta es que los bloques de instrucciones que dependen de alguna instrucción de control de flujo se marcan mediante el sangrado del texto, es decir, dejando un número concreto de espacios delante de las instrucciones que dependen de la instrucción de control de flujo. Es muy importante que el número de espacios sea el mismo en todo el programa (habitualmente 4 espacios). También se puede sustituir este número de espacios por un tabulador. Pongamos un ejemplo:"
   ]
  },
  {
   "cell_type": "code",
   "execution_count": null,
   "metadata": {},
   "outputs": [],
   "source": [
    "a=3\n",
    "if a<5:\n",
    "    print(\"Menor que 5\")\n",
    "else:\n",
    "    print(\"Mayor o igual que 5\")"
   ]
  },
  {
   "cell_type": "markdown",
   "metadata": {},
   "source": [
    "En este caso, el número de espacios que hay ante los print es de 4. Este número de espacios se tendrá que mantener durante todo el fichero de programa. Dado que algunos de los programas los bajaréis de nuestra web y que tendréis que hacer modificaciones, es importante que nos pongamos de acuerdo en cómo tiene que ser el sangrado en nuestros programas. Os propongo que sea de 4 espacios. Para hacerlo, en cualquier editor de textos tendréis que picar 4 espacios seguidos o bien configurar la tecla tabulador porque escriba 4 espacios en lugar de un tabulador."
   ]
  },
  {
   "cell_type": "markdown",
   "metadata": {},
   "source": [
    "### 2.2.b. Sentències condicionals: if, if...elif, if...elif...else"
   ]
  },
  {
   "cell_type": "markdown",
   "metadata": {},
   "source": [
    "La sentencia if nos permite indicar una condición y se puede completar con elif (si no si) y else (si no). Un ejemplo completo sería:"
   ]
  },
  {
   "cell_type": "code",
   "execution_count": null,
   "metadata": {},
   "outputs": [],
   "source": [
    "etiqueta=\"N\"\n",
    "if etiqueta==\"N\":\n",
    "    print(\"Nom\")\n",
    "elif etiqueta==\"V\":\n",
    "    print(\"Verb\")\n",
    "elif etiqueta==\"A\":\n",
    "    print(\"Adjectiu\")\n",
    "elif etiqueta==\"R\":\n",
    "    print(\"Adverbi\")\n",
    "else:\n",
    "    print(\"Altres\")"
   ]
  },
  {
   "cell_type": "markdown",
   "metadata": {},
   "source": [
    "Si la condición sólo afecta a una instrucción no es necesario empezar una línea nueva y se puede escribir de manera mucho más compacta como:"
   ]
  },
  {
   "cell_type": "code",
   "execution_count": null,
   "metadata": {},
   "outputs": [],
   "source": [
    "etiqueta=\"N\"\n",
    "if etiqueta==\"N\":  print(\"Nom\")\n",
    "elif etiqueta==\"V\": print(\"Verb\")\n",
    "elif etiqueta==\"A\": print(\"Adjectiu\")\n",
    "elif etiqueta==\"R\": print(\"Adverbi\")\n",
    "else: print(\"Altres\")"
   ]
  },
  {
   "cell_type": "markdown",
   "metadata": {},
   "source": [
    "## 2.3. Trabajar con archivos"
   ]
  },
  {
   "cell_type": "markdown",
   "metadata": {},
   "source": [
    "### 2.3.a. Introducción"
   ]
  },
  {
   "cell_type": "markdown",
   "metadata": {},
   "source": [
    "Muy a menudo la información que tratarán nuestros programas estará almacenada en archivos. Cuando procesamos textos, será necesario abrirlos, leer sus datos para procesarlos y cerrarlos. En esta sección veremos las instrucciones básicas necesarias para realizar las operaciones más habituales con archivos de texto\n",
    "\n",
    "Cómo que los archivos de texto pueden estar en diferentes codificaciones de caracteres, ya desde el principio nos acostumbraremos a trabajar con el módulo codecs, que permite trabajar muy fácilmente con codificaciones de caracteres."
   ]
  },
  {
   "cell_type": "markdown",
   "metadata": {},
   "source": [
    "### 2.3.b. Abrir y leer un archivo de texto"
   ]
  },
  {
   "cell_type": "markdown",
   "metadata": {},
   "source": [
    "Para abrir un archivo de texto en modo de lectura tendremos que cargar el módulo codecs y abrir el archivo de la siguiente manera:\n",
    "\n",
    "import codecs\n",
    "entrada=codecs.open(\"archivo1.txt\",\"r\",encoding=\"utf-8\")\n",
    "\n",
    "Fijaos que hemos especificado el modo de lectura (\"r\") y que el archivo está Unicode utf-8 (\"utf-8\"). Los archivos se pueden abrir en los siguientes modos:\n",
    "\n",
    "r: lectura\n",
    "w: escritura\n",
    "a: para añadir datos al final del archivo\n",
    "r+: tanto para leer cómo para escribir\n",
    "\n",
    "A entrada ahora tenemos un objeto de tipo archivo que tiene tres métodos principales para leer el contenido del archivo:\n",
    "\n",
    "read(): lee todo el archivo\n",
    "readline(): lee una línea\n",
    "readlines(): lee todas las líneas\n",
    "\n",
    "Vamos a practicar todo el relacionado con la lectura de archivos. Podéis descargar un archivo que se llama archivo.txt y que está codificado uno Unicode utf-8:\n",
    "\n",
    "Esta se la primera linia.\n",
    "Esta se la segunda línea.\n",
    "This is the third line.\n",
    "Это четвертая строка.\n",
    "これは、5行目です。\n",
    "\n",
    "\n",
    "En el intérprete interactivo podemos probar las diversas opciones. Primero importamos codecs y abrimos el archivo en modo de lectura. Recordáis que si no estáis al directorio donde se encontrar el archivo archivo.txt, tendréis que indicar la ruta completa al archivo.\n",
    "\n",
    "import codecs\n",
    "entrada=codecs.open(\"archivo.txt\",\"r\",encoding=\"utf-8\")\n",
    "\n",
    "La primera opción que tenemos es utilizar read() que leerá todo el archivo y lo pondrá en una cadena. Comprobémoslo:\n",
    "(para utilizar el siguiente código es necesario que tengáis el archivo \"archivo.txt\", que podéis descaragar de la web, en el mismo directorio que este notebook \"cap2.ipynb\")"
   ]
  },
  {
   "cell_type": "code",
   "execution_count": null,
   "metadata": {},
   "outputs": [],
   "source": [
    "import codecs\n",
    "entrada=codecs.open(\"archivo.txt\",\"r\",encoding=\"utf-8\")\n",
    "contingut=entrada.read()\n",
    "print(contingut)"
   ]
  },
  {
   "cell_type": "markdown",
   "metadata": {},
   "source": [
    "Todavía tenemos alguna otra opción para leer archivos de texto:\n",
    "\n",
    "-Simplemente iterar sobre el propio objeto archivo:"
   ]
  },
  {
   "cell_type": "code",
   "execution_count": null,
   "metadata": {},
   "outputs": [],
   "source": [
    "import codecs\n",
    "entrada=codecs.open(\"archivo.txt\",\"r\",encoding=\"utf-8\")\n",
    "for linea in entrada:\n",
    "    linea=linea.rstrip()\n",
    "    print(linea)"
   ]
  },
  {
   "cell_type": "markdown",
   "metadata": {},
   "source": [
    "-Convertir el objeto archivo en una lista:"
   ]
  },
  {
   "cell_type": "code",
   "execution_count": null,
   "metadata": {},
   "outputs": [],
   "source": [
    "import codecs\n",
    "entrada=codecs.open(\"archivo.txt\",\"r\",encoding=\"utf-8\")\n",
    "lineas=list(entrada)\n",
    "print(lineas)"
   ]
  },
  {
   "cell_type": "raw",
   "metadata": {},
   "source": [
    "### 2.3.c. Escritura en archivos"
   ]
  },
  {
   "cell_type": "markdown",
   "metadata": {},
   "source": [
    "Para escribir información en un archivo simplemente se tiene que utilizar write(). "
   ]
  },
  {
   "cell_type": "code",
   "execution_count": null,
   "metadata": {
    "collapsed": true
   },
   "outputs": [],
   "source": [
    "import codecs\n",
    "salida=codecs.open(\"salida.txt\",\"w\",encoding=\"utf-8\")\n",
    "salida.write(\"Escribimos una cadena de texto.\\n\")\n",
    "salida.close() #es una buena costumbre cerrar los archivos una vez acabamos de trabajar con ellos. No es imprescindible, no obstante."
   ]
  },
  {
   "cell_type": "markdown",
   "metadata": {},
   "source": [
    "Si abres el archivo salida.txt (que estará en el mismo directorio que este notebook \"cap2.ipynb\") verás que contiene:veureu que conté:\n",
    "\n",
    "Escribimos una cadena de texto.\n",
    "\n",
    "Fíjate que también ehmos añadido manualmente un salto de linea (\"\\n\") al final del archivo."
   ]
  },
  {
   "cell_type": "markdown",
   "metadata": {},
   "source": [
    "## 2.4. Errores i excepciones"
   ]
  },
  {
   "cell_type": "markdown",
   "metadata": {},
   "source": [
    "### 2.4.1. Introducción"
   ]
  },
  {
   "cell_type": "markdown",
   "metadata": {},
   "source": [
    "Cuando programamos seguro que cometeremos errores e incluso, programas correctamente programados pueden producir errores bajo ciertas circunstancias. Podemos distinguir dos tipos de errores principales: errores de sintaxis y excepciones.\n",
    "\n",
    "Los errores de sintaxis se producen porqué el código contiene algún tipo de error y el intérprete lo detecta y da un mensaje de error. A continuación observamos un ejemplo:"
   ]
  },
  {
   "cell_type": "code",
   "execution_count": null,
   "metadata": {},
   "outputs": [],
   "source": [
    "print(\"Hola)"
   ]
  },
  {
   "cell_type": "markdown",
   "metadata": {},
   "source": [
    "Fijaos que falta cerrar las comillas de Hola y por eso el intérprete avisa de este error. El mensaje de error que proporciona el intérprete es de gran importancia para corregir el error: indica la línea donde se produce el error y algún tipo de explicación del error. Hay que tener en cuenta, no obstante, que el error puede estar en alguna línea anterior a la que indica el intérprete.\n",
    "\n",
    "A continuación mostramos un ejemplo de excepción (se trata del programa-2-4-1.py)"
   ]
  },
  {
   "cell_type": "code",
   "execution_count": null,
   "metadata": {},
   "outputs": [],
   "source": [
    "a=input(\"Introduce un número \")\n",
    "b=input(\"Introduce otro número \")\n",
    "c=float(a)/float(b)\n",
    "print(\"La división es \",c)"
   ]
  },
  {
   "cell_type": "markdown",
   "metadata": {},
   "source": [
    "Este programa funciona perfectamente en muchos casos, pero hay algunos casos en los que se produce un error (pruébalo ejecuntado el programa anterior con el icono \"play\", e introduciendo los siguientes casos):\n",
    "\n",
    "-Por ejemplo, para a=2 y b=3 funciona perfectamente.\n",
    "-Pero si en el primer número, pro ejemplo, intrucimos un valor no numérico, se produce una excepción.\n",
    "-También se produce si el segundo número es 0\n",
    "\n",
    "Para evitar estos errores podemos escribir un código adicional de manera que controlemos las posibles causas de error, como por ejemplo el programa programa-2-4-2.py."
   ]
  },
  {
   "cell_type": "code",
   "execution_count": null,
   "metadata": {},
   "outputs": [],
   "source": [
    "a=input(\"Introduce un número \")\n",
    "b=input(\"Introduce otro número \")\n",
    "if a.isnumeric() and b.isnumeric() and not b==\"0\":\n",
    "    c=float(a)/float(b)\n",
    "    print(\"La división és \",c)\n",
    "else:\n",
    "    print(\"Las cifras que has introducido no son correctas\")"
   ]
  },
  {
   "cell_type": "markdown",
   "metadata": {},
   "source": [
    "Probad este programa y veréis que funciona bastante bien pero que solo admite números enteros, puesto que el método isnumeric() solo verifica si todos los caracteres que contiene la cadena son números. En la sección siguiente presentamos una manera mucho más efectiva de controlar los posibles errores que se pueden producir en un programa."
   ]
  },
  {
   "cell_type": "markdown",
   "metadata": {},
   "source": [
    "### 2.4.2. try...except"
   ]
  },
  {
   "cell_type": "markdown",
   "metadata": {},
   "source": [
    "Con try...except podemos controlar las excepciones que se producen en un programa. Observemos el programa-2-4-3.py como podemos controlar los errores de este modo."
   ]
  },
  {
   "cell_type": "code",
   "execution_count": null,
   "metadata": {
    "collapsed": true
   },
   "outputs": [],
   "source": [
    "a=input(\"Introduce un número \")\n",
    "b=input(\"Introduce otro número \")\n",
    "try:\n",
    "    c=float(a)/float(b)\n",
    "    print(\"La división és \",c)\n",
    "except:\n",
    "    print(\"Las cifras que has introducido no son correctas\")"
   ]
  },
  {
   "cell_type": "markdown",
   "metadata": {},
   "source": [
    "Podemos hacer que nos muestre el mensaje de error que se produce importando el módulo sys y modificando la última línea (programa-2-4-4.py):"
   ]
  },
  {
   "cell_type": "code",
   "execution_count": null,
   "metadata": {
    "collapsed": true
   },
   "outputs": [],
   "source": [
    "import sys\n",
    "a=input(\"Introduce un número \")\n",
    "b=input(\"Introduce otro número \")\n",
    "try:\n",
    "    c=float(a)/float(b)\n",
    "    print(\"La división és \",c)\n",
    "except:\n",
    "    print(\"Las cifras que has introducido no son correctas\",sys.exc_info()[0])\n"
   ]
  }
 ],
 "metadata": {
  "kernelspec": {
   "display_name": "Python 3",
   "language": "python",
   "name": "python3"
  },
  "language_info": {
   "codemirror_mode": {
    "name": "ipython",
    "version": 3
   },
   "file_extension": ".py",
   "mimetype": "text/x-python",
   "name": "python",
   "nbconvert_exporter": "python",
   "pygments_lexer": "ipython3",
   "version": "3.5.2"
  }
 },
 "nbformat": 4,
 "nbformat_minor": 1
}
