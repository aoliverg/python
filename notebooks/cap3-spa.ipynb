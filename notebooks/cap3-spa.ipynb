{
 "cells": [
  {
   "cell_type": "markdown",
   "metadata": {},
   "source": [
    "## 3.4.Ejemplos de uso de NLTK"
   ]
  },
  {
   "cell_type": "markdown",
   "metadata": {},
   "source": [
    "En esta sección presentamos unos ejemplos breves, que ejecutaremos desde el intérprete interactivo y nos servirán para verificar la instaación de NLTK y los datos. También veremos unas funcionalidades interesantes:\n",
    "\n",
    "Ejemplo de tokenización (trataremos más a fondo este tema en la sección 4.4):"
   ]
  },
  {
   "cell_type": "code",
   "execution_count": null,
   "metadata": {},
   "outputs": [],
   "source": [
    "import nltk\n",
    "text=\"This is a sentence. This is another sentence.\"\n",
    "text_tokenitzat=nltk.tokenize.word_tokenize(text)\n",
    "print(text_tokenitzat)"
   ]
  },
  {
   "cell_type": "markdown",
   "metadata": {},
   "source": [
    "Un ejemplo de etiquetado morfosintáctico (tema que veremos a fondo en la sección 5.3)."
   ]
  },
  {
   "cell_type": "code",
   "execution_count": null,
   "metadata": {},
   "outputs": [],
   "source": [
    "import nltk\n",
    "text=\"This is a sentence. This is another sentence.\"\n",
    "text_tokenitzat=nltk.tokenize.word_tokenize(text)\n",
    "text_etiquetat=nltk.pos_tag(text_tokenitzat)\n",
    "print(text_etiquetat)"
   ]
  },
  {
   "cell_type": "markdown",
   "metadata": {},
   "source": [
    "Un ejemplo de acceso de los datos de NLTK, en este caso a un corpus etiquetado del español.\n"
   ]
  },
  {
   "cell_type": "code",
   "execution_count": null,
   "metadata": {},
   "outputs": [],
   "source": [
    "from nltk.corpus import cess_esp\n",
    "words=cess_esp.words()\n",
    "print(\"Total palabras cess_esp:\",len(words))\n",
    "#imprimim les 25 primeres\n",
    "for word in words[0:25]:\n",
    "    print(word)"
   ]
  }
 ],
 "metadata": {
  "kernelspec": {
   "display_name": "Python 3",
   "language": "python",
   "name": "python3"
  },
  "language_info": {
   "codemirror_mode": {
    "name": "ipython",
    "version": 3
   },
   "file_extension": ".py",
   "mimetype": "text/x-python",
   "name": "python",
   "nbconvert_exporter": "python",
   "pygments_lexer": "ipython3",
   "version": "3.8.2"
  }
 },
 "nbformat": 4,
 "nbformat_minor": 1
}
