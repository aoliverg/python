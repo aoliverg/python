{
 "cells": [
  {
   "cell_type": "markdown",
   "metadata": {},
   "source": [
    "# 2. Elements bàsics del llenguatge de programació Python"
   ]
  },
  {
   "cell_type": "markdown",
   "metadata": {},
   "source": [
    "## 2.1. Tipus bàsics, operacions i conversió entre tipus"
   ]
  },
  {
   "cell_type": "markdown",
   "metadata": {},
   "source": [
    "### 2.1.a. Tipus bàsics"
   ]
  },
  {
   "cell_type": "markdown",
   "metadata": {},
   "source": [
    "Un concepte molt important en informàtica és el de variable, que és un nom simbòlic associat amb un valor que pot canviar. Per exemple, si en Python fem:\n",
    "\n",
    "a=3\n",
    "\n",
    "estem assignant el valor 3 a la variable a. Les dades que poden emmagatzemar les variables poden ser de diferent tipus: nombres, cadenes, valors lògics, etc. Tot i que no és necessari declarar quin tipus de dada emmagatzema una variable (recordeu que en l'apartat 1.1. parlàvem del tipatge dinàmic com a una de les característiques de Python), un cop assignem un valor a una determinada variable, aquesta automàticament tindrà un tipus determinat que es mantindrà durant l'execució del programa, si no és que li assignem més endavant un valor d'un altre tipus.\n",
    "\n",
    "Els tipus principals en Python són els següents:\n",
    "\n",
    "- Valors booleans que poden prendre els valors Cert (True) o Fals (False).\n",
    "- Números que poden ser sencers (integers) (1 i 2), de coma flotant (floats) (1.1 i 1.2), o complexos (complex) (3j+2)\n",
    "- Cadenes (strings) són seqüències de caràcters unicode (\"em dic Antoni\" o \"Меня зовут Антон\")\n",
    "- Llistes (lists), són seqüències ordenades de valors ([\"dilluns\", \"dimarts\", \"dimecres\", \"dijous\", \"divendres\", \"dissabte\", \"diumenge\"].\n",
    "- Col·leccions (sets) són un conjunt de valors sense ordre. El exemple anterior de la llista ens serviria, però tenint en compte que no tindrien un ordre determinat\n",
    "- Diccionaris (dictionaries): són un conjunt sense ordre de parells clau-valor. Per exemple edat[\"Paula\"]=27; edat[\"Joan\"]=15; edat[Pau]=32, que també es podria representar com edat={'Joan': 15, 'Paula': 27, 'Pau': 32}\n",
    "\n",
    "La funció type ens retorna el tipus d'un objecte. Ara obriu un intèrpret interactiu i escriviu les següents instruccions:\n",
    "\n",
    "\n",
    "\n"
   ]
  },
  {
   "cell_type": "code",
   "execution_count": null,
   "metadata": {},
   "outputs": [],
   "source": [
    "a=True\n",
    "print(a)\n",
    "print(type(a))"
   ]
  },
  {
   "cell_type": "markdown",
   "metadata": {},
   "source": [
    "Fixeu-vos que type ens retorna el tipus de la variable. Com que en Python3 tot és una classe ens diu class"
   ]
  },
  {
   "cell_type": "code",
   "execution_count": null,
   "metadata": {},
   "outputs": [],
   "source": [
    "a=3\n",
    "print(type(a))"
   ]
  },
  {
   "cell_type": "markdown",
   "metadata": {},
   "source": [
    "Fixeu-vos que si en la mateixa sessió de l'intèrpret interactiu o dins d'un mateix programa torneu a fer servir la variable a per a un altres tipus tipus de la variable es canvia de manera dinàmica."
   ]
  },
  {
   "cell_type": "code",
   "execution_count": null,
   "metadata": {},
   "outputs": [],
   "source": [
    "a=1.1\n",
    "print(type(a))"
   ]
  },
  {
   "cell_type": "code",
   "execution_count": null,
   "metadata": {},
   "outputs": [],
   "source": [
    "a=3j+2\n",
    "print(type(a))"
   ]
  },
  {
   "cell_type": "code",
   "execution_count": null,
   "metadata": {},
   "outputs": [],
   "source": [
    "a=\"em dic Antoni\"\n",
    "print(type(a))"
   ]
  },
  {
   "cell_type": "code",
   "execution_count": null,
   "metadata": {},
   "outputs": [],
   "source": [
    "a=\"Меня зовут Антон\"\n",
    "print(type(a))"
   ]
  },
  {
   "cell_type": "code",
   "execution_count": null,
   "metadata": {},
   "outputs": [],
   "source": [
    "a=[\"dilluns\", \"dimarts\", \"dimecres\", \"dijous\", \"divendres\", \"dissabte\", \"diumenge\"]\n",
    "print(type(a))\n",
    "print(\"Escrivim tota la llista:\")\n",
    "print(a)\n",
    "print(\"La primera posició és la 0:\")\n",
    "print(a[0]) #la primera posició és la 0\n",
    "print(\"La segona posició és la 1:\")\n",
    "print(a[1]) #i la segona és la 1\n",
    "print(\"La darrera posició és la 6, ja que tenim 7 elements:\")\n",
    "print(a[6]) #la darrera és la 6, ja que tenim 7 elements\n",
    "print(\"També podem accedir a la darrera posició amb l'índex -1:\")\n",
    "print(a[-1]) #també podem accedir a la darrera posició amb l'índex -1\n",
    "print(\"Si intentem accedir a una posició no existent, es produeix un error:\")\n",
    "print(a[7]) #si intentem accedir a una posició no existent, es produeix un error"
   ]
  },
  {
   "cell_type": "markdown",
   "metadata": {},
   "source": [
    "Ara convertirem la llista a en un set. "
   ]
  },
  {
   "cell_type": "code",
   "execution_count": null,
   "metadata": {},
   "outputs": [],
   "source": [
    "a=[\"dilluns\", \"dimarts\", \"dimecres\", \"dijous\", \"divendres\", \"dissabte\", \"diumenge\"]\n",
    "a=set(a)\n",
    "print(type(a))\n",
    "print(a)"
   ]
  },
  {
   "cell_type": "markdown",
   "metadata": {},
   "source": [
    "Fixeu-vos que al passar a a set s'ha perdut l'ordre. A més si intentem accedir a una posició concreta es produeix un error:"
   ]
  },
  {
   "cell_type": "code",
   "execution_count": null,
   "metadata": {},
   "outputs": [],
   "source": [
    "a=[\"dilluns\", \"dimarts\", \"dimecres\", \"dijous\", \"divendres\", \"dissabte\", \"diumenge\"]\n",
    "a=set(a)\n",
    "print(a[10])"
   ]
  },
  {
   "cell_type": "markdown",
   "metadata": {},
   "source": [
    "Ara aprendrem a treballar amb diccionaris:"
   ]
  },
  {
   "cell_type": "code",
   "execution_count": null,
   "metadata": {},
   "outputs": [],
   "source": [
    "edat={} #per començar a treballar amb un diccionari primer el declararem\n",
    "print(type(edat)) #podem veure el tipus de variable\n",
    "#podem assignar valors\n",
    "edat[\"Paula\"]=27\n",
    "edat[\"Joan\"]=15\n",
    "edat[\"Pau\"]=32\n",
    "#podem escriure tot el diccionari fent:\n",
    "print(edat)\n",
    "#o bé accedir a un valor concret fent:\n",
    "print(edat[\"Paula\"])\n",
    "#si intentem demanar el valor per a una clau no existent es produeix un error:\n",
    "print(edat[\"Antoni\"])"
   ]
  },
  {
   "cell_type": "markdown",
   "metadata": {},
   "source": [
    "Ara ja coneixem els principals tipus en Python. Cada un d'aquests tipus tindran associades una sèrie d'operacions possibles, però les anirem explicant a mesura que les anem necessitat en la resta de seccions."
   ]
  },
  {
   "cell_type": "markdown",
   "metadata": {},
   "source": [
    "## 2.2. Control de flux"
   ]
  },
  {
   "cell_type": "markdown",
   "metadata": {},
   "source": [
    "### 2.2.a. Introducció"
   ]
  },
  {
   "cell_type": "markdown",
   "metadata": {},
   "source": [
    "Els programes no són sempre una seqüencia d'instruccions que s'executa una darrera de l'altra. Sovint, hi ha parts del codi que només s'executen si s'acompleix una condició determinada. També poden haver instruccions que s'executen repetidament fins que s'assoleix una determinada condició. En aquest apartat veurem les instruccions que ens permeten tenir el control sobre el flux d'execució del programa.\n",
    "\n",
    "Un aspecte molt important a tenir en compte és que els blocs d'instruccions que depenen d'alguna instrucció control de flux es marquen mitjançant el sagnat del text, és a dir, deixant un nombre concret d'espais davant de les instruccions que depenen de la instrucció de control de flux. És molt important que el nombre d'espais sigui el mateix en tot el programa (habitualment 4 espais). També es pot substituir aquest nombre d'espais per un tabulador. Posem un exemple:"
   ]
  },
  {
   "cell_type": "code",
   "execution_count": null,
   "metadata": {},
   "outputs": [],
   "source": [
    "a=3\n",
    "if a<5:\n",
    "    print(\"Més petit que 5\")\n",
    "else:\n",
    "    print(\"Més gran o igual que 5\")"
   ]
  },
  {
   "cell_type": "markdown",
   "metadata": {},
   "source": [
    "En aquest cas, el nombre d'espais que hi ha davant dels print és de 4. Aquest nombre d'espais s'haurà de mantenir durant tot el fitxer de programa. Donat que alguns dels programes els baixareu d'aquest espai i que haureu de fer modificacions, és important que ens posem d'acord en com ha de ser el sagnat en els nostres programes. Us proposo que sigui de 4 espais. Per fer-ho, en qualsevol editor de textos haureu de picar 4 espais seguits o bé configurar la tecla tabulador perquè escrigui 4 espais en lloc d'un tabulador."
   ]
  },
  {
   "cell_type": "markdown",
   "metadata": {},
   "source": [
    "### 2.2.b. Sentències condicionals: if, if...elif, if...elif...else"
   ]
  },
  {
   "cell_type": "markdown",
   "metadata": {},
   "source": [
    "La sentència if ens permet indicar un condició i es pot complementar amb elif (sinó si) i else (sinó). Un exemple complet seria:"
   ]
  },
  {
   "cell_type": "code",
   "execution_count": null,
   "metadata": {},
   "outputs": [],
   "source": [
    "etiqueta=\"N\"\n",
    "if etiqueta==\"N\":\n",
    "    print(\"Nom\")\n",
    "elif etiqueta==\"V\":\n",
    "    print(\"Verb\")\n",
    "elif etiqueta==\"A\":\n",
    "    print(\"Adjectiu\")\n",
    "elif etiqueta==\"R\":\n",
    "    print(\"Adverbi\")\n",
    "else:\n",
    "    print(\"Altres\")"
   ]
  },
  {
   "cell_type": "markdown",
   "metadata": {},
   "source": [
    "Si la condició només afecta a una instrucció no és necessari començar línia nova i això es pot escriure de manera molt més compacta com:"
   ]
  },
  {
   "cell_type": "code",
   "execution_count": null,
   "metadata": {},
   "outputs": [],
   "source": [
    "etiqueta=\"N\"\n",
    "if etiqueta==\"N\":  print(\"Nom\")\n",
    "elif etiqueta==\"V\": print(\"Verb\")\n",
    "elif etiqueta==\"A\": print(\"Adjectiu\")\n",
    "elif etiqueta==\"R\": print(\"Adverbi\")\n",
    "else: print(\"Altres\")"
   ]
  },
  {
   "cell_type": "markdown",
   "metadata": {},
   "source": [
    "## 2.3. Treballar amb fitxers"
   ]
  },
  {
   "cell_type": "markdown",
   "metadata": {},
   "source": [
    "### 2.3.a. Introducció"
   ]
  },
  {
   "cell_type": "markdown",
   "metadata": {},
   "source": [
    "Molt sovint la informació que tractaran els nostres programes estarà emmagatzemada en arxius. Quan processem textos, serà necessari obrir-los, llegir les seves dades per processar-les i tancar-los. En aquesta secció veurem les instruccions bàsiques necessàries per fer les operacions més habituals amb arxius de text\n",
    "\n",
    "Com que els arxius de text poden estar en diferents codificacions de caràcters, ja des del principi ens acostumarem a treballar amb el mòdul codecs, que permet treballar molt fàcilment amb codificacions de caràcters."
   ]
  },
  {
   "cell_type": "markdown",
   "metadata": {},
   "source": [
    "### 2.3.b. Obrir i llegir un arxiu de text"
   ]
  },
  {
   "cell_type": "markdown",
   "metadata": {},
   "source": [
    "Per obrir un arxiu de text en mode de lectura haurem de carregar el mòdul codecs i obrir l'arxiu de la següent manera:\n",
    "\n",
    "import codecs\n",
    "entrada=codecs.open(\"prova1.txt\",\"r\",encoding=\"utf-8\")\n",
    "\n",
    "Fixeu-vos que hem especificat el mode de lectura (\"r\") i que l'arxiu està en Unicode utf-8 (\"utf-8\").Els arxius es poden obrir en els següents modes:\n",
    "\n",
    "r: lectura\n",
    "w: escriptura\n",
    "a: per afegir dades al final de l'arxiu\n",
    "r+: tant per llegir com per escriure\n",
    "\n",
    " A entrada ara tenim un objecte de tipus arxiu que té tres mètodes principals per llegir el contingut de l'arxiu:\n",
    "\n",
    "read(): llegeix tot l'arxiu\n",
    "readline(): llegeix una línia\n",
    "readlines(): llegeix totes les línies\n",
    "\n",
    "Anem a practicar tot el relacionat amb la lectura d'arxius. Podeu descarregar un arxiu que es diu arxiu.txt i que està codificat un Unicode utf-8:\n",
    "\n",
    "Aquesta es la primera linia.\n",
    "Esta es la segunda línea.\n",
    "This is the third line.\n",
    "Это четвертая строка.\n",
    "これは、5行目です。\n",
    "\n",
    "\n",
    "A l'intèrpret interactiu podem provar les diverses opcions. Primer carreguem codecs i obrim l'arxiu en mode de lectura. Recordeu que si no esteu al directori on es trobar l'arxiu arxiu.txt, haureu d'indicar la ruta completa a l'arxiu.\n",
    "\n",
    "import codecs\n",
    "entrada=codecs.open(\"arxiu.txt\",\"r\",encoding=\"utf-8\")\n",
    "\n",
    "La primera opció que tenim és fer sevir read() que llegirà tot l'arxiu i el posarà en una cadena. Comprovem-ho:\n",
    "(per fer servir el següent codi és necessari que tingueu l'arxiu \"arxiu.txt\", que podeu descarregar del Site, en el mateix directori que aquest notebook \"cap2.ipynb\". Si treballeu amb Google Colab, podreu pujar l'arxiu executant el codi següent:)"
   ]
  },
  {
   "cell_type": "code",
   "execution_count": null,
   "metadata": {},
   "outputs": [],
   "source": [
    "#ATENCIÓ: EXECUTEU AQUESTA CEL·LA NOMÉS SI ESTEU TREBALLANT AMB GOOGLE COLAB. \n",
    "#Us demanarà que trieu l'arxiu arxiu.txt del vostre ordinador i el pujarà a l'entorn de Google Colab.\n",
    "from google.colab import files\n",
    "uploaded = files.upload()"
   ]
  },
  {
   "cell_type": "code",
   "execution_count": null,
   "metadata": {},
   "outputs": [],
   "source": [
    "import codecs\n",
    "entrada=codecs.open(\"arxiu.txt\",\"r\",encoding=\"utf-8\")\n",
    "contingut=entrada.read()\n",
    "print(contingut)"
   ]
  },
  {
   "cell_type": "markdown",
   "metadata": {},
   "source": [
    "Encara tenim alguna altra opció per a llegir arxius de text:\n",
    "\n",
    "-Simplement iterar sobre el propio objecte arxiu:"
   ]
  },
  {
   "cell_type": "code",
   "execution_count": null,
   "metadata": {},
   "outputs": [],
   "source": [
    "import codecs\n",
    "entrada=codecs.open(\"arxiu.txt\",\"r\",encoding=\"utf-8\")\n",
    "for linia in entrada:\n",
    "    linia=linia.rstrip()\n",
    "    print(linia)"
   ]
  },
  {
   "cell_type": "markdown",
   "metadata": {},
   "source": [
    "-Convertir l'objecte arxiu en una llista:"
   ]
  },
  {
   "cell_type": "code",
   "execution_count": null,
   "metadata": {},
   "outputs": [],
   "source": [
    "import codecs\n",
    "entrada=codecs.open(\"arxiu.txt\",\"r\",encoding=\"utf-8\")\n",
    "linies=list(entrada)\n",
    "print(linies)"
   ]
  },
  {
   "cell_type": "markdown",
   "metadata": {},
   "source": [
    "### 2.3.c. Escriptura a arxius"
   ]
  },
  {
   "cell_type": "markdown",
   "metadata": {},
   "source": [
    "Per escriure informació a un arxiu de text simplement cal fer servir write(). "
   ]
  },
  {
   "cell_type": "code",
   "execution_count": null,
   "metadata": {},
   "outputs": [],
   "source": [
    "import codecs\n",
    "sortida=codecs.open(\"sortida.txt\",\"w\",encoding=\"utf-8\")\n",
    "sortida.write(\"Escrivim una cadena de text.\\n\")\n",
    "sortida.close() #es un bon costum tancar els fitxers un cop acabem de treballar amb ells. No és imprescindible, però"
   ]
  },
  {
   "cell_type": "markdown",
   "metadata": {},
   "source": [
    "Si obriu l'arxiu sortida.txt (que estarà en el mateix directori que aquest notebook \"cap2.ipynb\") veureu que conté:\n",
    "\n",
    "Escrivim una cadena de text.\n",
    "\n",
    "Fixeu-vos també que hem afegit manualment un salt de línia (\"\\n\") al final de l'arxiu."
   ]
  },
  {
   "cell_type": "markdown",
   "metadata": {},
   "source": [
    "## 2.4. Errors i excepcions"
   ]
  },
  {
   "cell_type": "markdown",
   "metadata": {},
   "source": [
    "### 2.4.1. Introducció"
   ]
  },
  {
   "cell_type": "markdown",
   "metadata": {},
   "source": [
    "Quan programem segur que cometrem errors i fins i tot, programes correctament programats poden produir errors sota certes circumstàncies. Podem distingir dos tipus d'errors principals: errors de sintaxi i excepcions.\n",
    "\n",
    "Els errors de sintaxi es produeixen perquè el codi conté algun tipus d'error i l'intèrpret el detecta i dóna un missatge d'error. A continuació observem un exemple:"
   ]
  },
  {
   "cell_type": "code",
   "execution_count": null,
   "metadata": {},
   "outputs": [],
   "source": [
    "print(\"Hola)"
   ]
  },
  {
   "cell_type": "markdown",
   "metadata": {},
   "source": [
    "Fixeu-vos que falta tancar les cometes d'Hola i per això l'intèrpret avisa d'aquest error. El missatge d'error que proporciona l'intèrpret és de gran importància per corregir l'error: indica la línia on es produeix l'error i algun tipus d'explicació de l'error. Cal tenir en compte, però, que l'error pot estar en alguna línia anterior a la que indica l'intèrpret.\n",
    "\n",
    "A continuació mostrem un exemple d'excepció (es tracta del programa-2-4-1.py)"
   ]
  },
  {
   "cell_type": "code",
   "execution_count": null,
   "metadata": {},
   "outputs": [],
   "source": [
    "a=input(\"Entra un número \")\n",
    "b=input(\"Entra un altre numero \")\n",
    "c=float(a)/float(b)\n",
    "print(\"La divisió és \",c)"
   ]
  },
  {
   "cell_type": "markdown",
   "metadata": {},
   "source": [
    "Aquest programa funciona perfectament en molts casos, però hi ha alguns en els que es produeix error (prova-ho executant el programa anterior, amb la icona de \"play\", i introduïnt els següents casos):\n",
    "\n",
    "-Per exemple, per a 2 i b 3 funciona perfectament:\n",
    "-Ara, bé si per exemple al primer número no entrem un valor numèric, es produeix una excepció:\n",
    "-O bé si el segon número és un zero:\n",
    "\n",
    "\n",
    "Per evitar aquests errors podem escriure codi addicional de manera que controlem les possibles causes d'error, com per exemple el programa-2-4-2.py."
   ]
  },
  {
   "cell_type": "code",
   "execution_count": null,
   "metadata": {},
   "outputs": [],
   "source": [
    "a=input(\"Entra un número \")\n",
    "b=input(\"Entra un altre numero \")\n",
    "if a.isnumeric() and b.isnumeric() and not b==\"0\":\n",
    "    c=float(a)/float(b)\n",
    "    print(\"La divisió és \",c)\n",
    "else:\n",
    "    print(\"Les xifres que has entrat no són correctes\")"
   ]
  },
  {
   "cell_type": "markdown",
   "metadata": {},
   "source": [
    "Proveu aquest programa i veureu que funciona prou bé però que només admet nombres sencers, ja que el mètode isnumeric() només verifica si tots els caràcters que conté la cadena són números. A la secció següent presentem una manera molt més efectiva de controlar els possibles errors que es poden produir a un programa."
   ]
  },
  {
   "cell_type": "markdown",
   "metadata": {},
   "source": [
    "### 2.4.2. try...except"
   ]
  },
  {
   "cell_type": "markdown",
   "metadata": {},
   "source": [
    "Amb try...except podem controlar les excepcions que es produeixen a un programa. Observem a programa-2-4-3.py com podem controlar els errors d'aquesta manera."
   ]
  },
  {
   "cell_type": "code",
   "execution_count": null,
   "metadata": {},
   "outputs": [],
   "source": [
    "a=input(\"Entra un número \")\n",
    "b=input(\"Entra un altre numero \")\n",
    "try:\n",
    "    c=float(a)/float(b)\n",
    "    print(\"La divisió és \",c)\n",
    "except:\n",
    "    print(\"Les xifres que has entrat no són correctes\")"
   ]
  },
  {
   "cell_type": "markdown",
   "metadata": {},
   "source": [
    "Podem fer que ens mostri el missatge d'error que es produeix important el mòdul sys i modificant la darrera línia (programa-2-4-4.py):"
   ]
  },
  {
   "cell_type": "code",
   "execution_count": null,
   "metadata": {},
   "outputs": [],
   "source": [
    "import sys\n",
    "a=input(\"Entra un número \")\n",
    "b=input(\"Entra un altre numero \")\n",
    "try:\n",
    "    c=float(a)/float(b)\n",
    "    print(\"La divisió és \",c)\n",
    "except:\n",
    "    print(\"Les xifres que has entrat no són correctes\",sys.exc_info()[0])"
   ]
  }
 ],
 "metadata": {
  "kernelspec": {
   "display_name": "Python 3",
   "language": "python",
   "name": "python3"
  },
  "language_info": {
   "codemirror_mode": {
    "name": "ipython",
    "version": 3
   },
   "file_extension": ".py",
   "mimetype": "text/x-python",
   "name": "python",
   "nbconvert_exporter": "python",
   "pygments_lexer": "ipython3",
   "version": "3.8.2"
  }
 },
 "nbformat": 4,
 "nbformat_minor": 1
}
