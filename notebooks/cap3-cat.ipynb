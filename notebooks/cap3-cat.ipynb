{
 "cells": [
  {
   "cell_type": "markdown",
   "metadata": {},
   "source": [
    "## 3.4. Exemples d'ús de l'NLTK"
   ]
  },
  {
   "cell_type": "code",
   "execution_count": null,
   "metadata": {},
   "outputs": [],
   "source": [
    "#Si treballes amb el Google Colab o bé no has descarregat totes les dades de nltk has d'executar aquesta cel·la.\n",
    "#Abans hem de carregar algunes dades d'nltk\n",
    "import nltk\n",
    "nltk.download('punkt')\n",
    "#I el tokenitzador que farem servir\n",
    "nltk.download('averaged_perceptron_tagger')\n",
    "#I el corpus cess_cat\n",
    "nltk.download('cess_cat')"
   ]
  },
  {
   "cell_type": "markdown",
   "metadata": {},
   "source": [
    "En aquesta secció presentem uns breus exemples, que executarem des de l'intèrpret interactiu, i ens serviran per verificar la instal·lació de l'NLTK i les dades, i veure algunes funcionalitats.\n",
    "\n",
    "Exemple de tokenització (veurem a fons què és a la secció 4.4):"
   ]
  },
  {
   "cell_type": "code",
   "execution_count": null,
   "metadata": {},
   "outputs": [],
   "source": [
    "import nltk\n",
    "text=\"This is a sentence. This is another sentence.\"\n",
    "text_tokenitzat=nltk.tokenize.word_tokenize(text)\n",
    "print(text_tokenitzat)"
   ]
  },
  {
   "cell_type": "markdown",
   "metadata": {},
   "source": [
    "Un exemple d'etiquetatge morfosintàctic (tema que veurem a fons a la secció 5.3)"
   ]
  },
  {
   "cell_type": "code",
   "execution_count": null,
   "metadata": {},
   "outputs": [],
   "source": [
    "import nltk\n",
    "text=\"This is a sentence. This is another sentence.\"\n",
    "text_tokenitzat=nltk.tokenize.word_tokenize(text)\n",
    "text_etiquetat=nltk.pos_tag(text_tokenitzat)\n",
    "print(text_etiquetat)"
   ]
  },
  {
   "cell_type": "markdown",
   "metadata": {},
   "source": [
    "Un exemple d'accés a les dades de l'NLTK, en aquest cas a un corpus etiquetat del català.\n"
   ]
  },
  {
   "cell_type": "code",
   "execution_count": null,
   "metadata": {},
   "outputs": [],
   "source": [
    "from nltk.corpus import cess_cat\n",
    "words=cess_cat.words()\n",
    "print(\"Total paraules cess_cat:\",len(words))\n",
    "#imprimim les 25 primeres\n",
    "for word in words[0:25]:\n",
    "    print(word)"
   ]
  }
 ],
 "metadata": {
  "kernelspec": {
   "display_name": "Python 3",
   "language": "python",
   "name": "python3"
  },
  "language_info": {
   "codemirror_mode": {
    "name": "ipython",
    "version": 3
   },
   "file_extension": ".py",
   "mimetype": "text/x-python",
   "name": "python",
   "nbconvert_exporter": "python",
   "pygments_lexer": "ipython3",
   "version": "3.8.2"
  }
 },
 "nbformat": 4,
 "nbformat_minor": 1
}
