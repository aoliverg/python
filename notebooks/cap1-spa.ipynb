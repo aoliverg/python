{
 "cells": [
  {
   "cell_type": "markdown",
   "metadata": {},
   "source": [
    "# El Jupyter Notebook"
   ]
  },
  {
   "cell_type": "markdown",
   "metadata": {},
   "source": [
    "El Jupyter Notebook es una aplicación web que permite crear y compartir documentos que contienen tanto texto (en un formato muy parecido al Wiki) como código de programación (que en nuestro caso será Python). Con esta aplicación web el código insertado en el documento se puede ejecutar directamente y observar los resultados.\n",
    "\n",
    "Consulta la web del capítulo para saber cómo instalar el Jupyter Notebook.\n",
    "\n",
    "En este documento hay un par de ejemplos muy sencillos. En el resto de capítulos se ofrecerá un resumen con el código insertado para poderlo ejecutar directamente.\n",
    "\n",
    "Fíjate que a continuación hay un código, puedes ejecutarlo seleccionando la casilla que contiene el código y haciendo clic en el icono que representa el símbolo \"play\" en el menú de Jupyter o bien haciendo Cell> Run cells.\n",
    "\n",
    "También puedes modificar el código o el texto y descargar un archivo modificado desde el menú File. Esta función permite descargar el archivo en diferentes formatos."
   ]
  },
  {
   "cell_type": "code",
   "execution_count": null,
   "metadata": {
    "scrolled": true
   },
   "outputs": [],
   "source": [
    "print(\"Hola\")"
   ]
  },
  {
   "cell_type": "markdown",
   "metadata": {},
   "source": [
    "A continuación dispones de otro ejemplo muy sencillo:"
   ]
  },
  {
   "cell_type": "code",
   "execution_count": null,
   "metadata": {
    "scrolled": true
   },
   "outputs": [],
   "source": [
    "a=2\n",
    "b=3\n",
    "print(a+b)"
   ]
  },
  {
   "cell_type": "markdown",
   "metadata": {},
   "source": [
    "Utilizando el Notebook de Jupyter podremos repasar los conceptos más importantes de cada módulo en un intérprete interactivo."
   ]
  }
 ],
 "metadata": {
  "kernelspec": {
   "display_name": "Python 3",
   "language": "python",
   "name": "python3"
  },
  "language_info": {
   "codemirror_mode": {
    "name": "ipython",
    "version": 3
   },
   "file_extension": ".py",
   "mimetype": "text/x-python",
   "name": "python",
   "nbconvert_exporter": "python",
   "pygments_lexer": "ipython3",
   "version": "3.8.5"
  }
 },
 "nbformat": 4,
 "nbformat_minor": 1
}
